{
 "cells": [
  {
   "cell_type": "code",
   "execution_count": 6,
   "metadata": {},
   "outputs": [],
   "source": [
    "import pandas as pd\n",
    "import numpy as np"
   ]
  },
  {
   "cell_type": "code",
   "execution_count": 7,
   "metadata": {},
   "outputs": [],
   "source": [
    "df = pd.read_excel('penalty_stats_updated.xlsx', sheet_name='2019')"
   ]
  },
  {
   "cell_type": "code",
   "execution_count": 8,
   "metadata": {},
   "outputs": [
    {
     "data": {
      "text/html": [
       "<div>\n",
       "<style scoped>\n",
       "    .dataframe tbody tr th:only-of-type {\n",
       "        vertical-align: middle;\n",
       "    }\n",
       "\n",
       "    .dataframe tbody tr th {\n",
       "        vertical-align: top;\n",
       "    }\n",
       "\n",
       "    .dataframe thead th {\n",
       "        text-align: right;\n",
       "    }\n",
       "</style>\n",
       "<table border=\"1\" class=\"dataframe\">\n",
       "  <thead>\n",
       "    <tr style=\"text-align: right;\">\n",
       "      <th></th>\n",
       "      <th>Season</th>\n",
       "      <th>Date</th>\n",
       "      <th>Home Team</th>\n",
       "      <th>Away Team</th>\n",
       "      <th>Home Team Penality Conceded Count</th>\n",
       "      <th>Away Team Penality Conceded Count</th>\n",
       "      <th>Match Referee</th>\n",
       "      <th>Unnamed: 7</th>\n",
       "    </tr>\n",
       "  </thead>\n",
       "  <tbody>\n",
       "    <tr>\n",
       "      <th>0</th>\n",
       "      <td>2019</td>\n",
       "      <td>2019-02-15 08:35:00</td>\n",
       "      <td>Chiefs</td>\n",
       "      <td>Highlanders</td>\n",
       "      <td>10</td>\n",
       "      <td>7</td>\n",
       "      <td>Glen Jackson</td>\n",
       "      <td>NZ</td>\n",
       "    </tr>\n",
       "    <tr>\n",
       "      <th>1</th>\n",
       "      <td>2019</td>\n",
       "      <td>2019-02-15 10:45:00</td>\n",
       "      <td>Brumbies</td>\n",
       "      <td>Rebels</td>\n",
       "      <td>6</td>\n",
       "      <td>11</td>\n",
       "      <td>Ben O'Keeffe</td>\n",
       "      <td>NZ</td>\n",
       "    </tr>\n",
       "    <tr>\n",
       "      <th>2</th>\n",
       "      <td>2019</td>\n",
       "      <td>2019-02-16 08:35:00</td>\n",
       "      <td>Blues</td>\n",
       "      <td>Crusaders</td>\n",
       "      <td>9</td>\n",
       "      <td>11</td>\n",
       "      <td>Nick Briant</td>\n",
       "      <td>NZ</td>\n",
       "    </tr>\n",
       "    <tr>\n",
       "      <th>3</th>\n",
       "      <td>2019</td>\n",
       "      <td>2019-02-16 10:45:00</td>\n",
       "      <td>Waratahs</td>\n",
       "      <td>Hurricanes</td>\n",
       "      <td>14</td>\n",
       "      <td>12</td>\n",
       "      <td>Angus Gardner</td>\n",
       "      <td>AUS</td>\n",
       "    </tr>\n",
       "    <tr>\n",
       "      <th>4</th>\n",
       "      <td>2019</td>\n",
       "      <td>2019-02-16 12:55:00</td>\n",
       "      <td>Sunwolves</td>\n",
       "      <td>Sharks</td>\n",
       "      <td>16</td>\n",
       "      <td>7</td>\n",
       "      <td>Nic Berry</td>\n",
       "      <td>AUS</td>\n",
       "    </tr>\n",
       "  </tbody>\n",
       "</table>\n",
       "</div>"
      ],
      "text/plain": [
       "   Season               Date   Home Team    Away Team  \\\n",
       "0    2019 2019-02-15 08:35:00     Chiefs  Highlanders   \n",
       "1    2019 2019-02-15 10:45:00   Brumbies       Rebels   \n",
       "2    2019 2019-02-16 08:35:00      Blues    Crusaders   \n",
       "3    2019 2019-02-16 10:45:00   Waratahs   Hurricanes   \n",
       "4    2019 2019-02-16 12:55:00  Sunwolves       Sharks   \n",
       "\n",
       "   Home Team Penality Conceded Count  Away Team Penality Conceded Count  \\\n",
       "0                                 10                                  7   \n",
       "1                                  6                                 11   \n",
       "2                                  9                                 11   \n",
       "3                                 14                                 12   \n",
       "4                                 16                                  7   \n",
       "\n",
       "   Match Referee Unnamed: 7  \n",
       "0   Glen Jackson         NZ  \n",
       "1   Ben O'Keeffe         NZ  \n",
       "2    Nick Briant         NZ  \n",
       "3  Angus Gardner        AUS  \n",
       "4      Nic Berry        AUS  "
      ]
     },
     "execution_count": 8,
     "metadata": {},
     "output_type": "execute_result"
    }
   ],
   "source": [
    "df.head()"
   ]
  },
  {
   "cell_type": "code",
   "execution_count": 9,
   "metadata": {},
   "outputs": [],
   "source": [
    "def clean_penalties(value):\n",
    "    \n",
    "    try:\n",
    "        return int(value.split('=')[1])\n",
    "    except AttributeError:\n",
    "        return int(value)"
   ]
  },
  {
   "cell_type": "code",
   "execution_count": 10,
   "metadata": {},
   "outputs": [],
   "source": [
    "df['Home Team Penality Conceded Count'] = df['Home Team Penality Conceded Count'].apply(clean_penalties)\n",
    "df['Away Team Penality Conceded Count'] = df['Away Team Penality Conceded Count'].apply(clean_penalties)"
   ]
  },
  {
   "cell_type": "code",
   "execution_count": 11,
   "metadata": {},
   "outputs": [
    {
     "data": {
      "text/plain": [
       "821"
      ]
     },
     "execution_count": 11,
     "metadata": {},
     "output_type": "execute_result"
    }
   ],
   "source": [
    "df['Home Team Penality Conceded Count'].sum()"
   ]
  },
  {
   "cell_type": "code",
   "execution_count": 12,
   "metadata": {},
   "outputs": [
    {
     "data": {
      "text/plain": [
       "830"
      ]
     },
     "execution_count": 12,
     "metadata": {},
     "output_type": "execute_result"
    }
   ],
   "source": [
    "df['Away Team Penality Conceded Count'].sum()"
   ]
  },
  {
   "cell_type": "code",
   "execution_count": 13,
   "metadata": {},
   "outputs": [],
   "source": [
    "# In 2017, away teams received 73 (5.75%) more penalties than home teams. In 2018, the difference was 29 (2.36%).\n",
    "# Although the competition is only -- finished in games played, the difference between home and away is nine (1.1%)."
   ]
  },
  {
   "cell_type": "code",
   "execution_count": 14,
   "metadata": {},
   "outputs": [],
   "source": [
    "df.columns = ['Season', 'Date ', 'Home Team', 'Away Team',\n",
    "       'Home Team Penality Conceded Count',\n",
    "       'Away Team Penality Conceded Count', 'Match Referee', 'Referee Nationality']"
   ]
  },
  {
   "cell_type": "code",
   "execution_count": 15,
   "metadata": {},
   "outputs": [
    {
     "data": {
      "text/html": [
       "<div>\n",
       "<style scoped>\n",
       "    .dataframe tbody tr th:only-of-type {\n",
       "        vertical-align: middle;\n",
       "    }\n",
       "\n",
       "    .dataframe tbody tr th {\n",
       "        vertical-align: top;\n",
       "    }\n",
       "\n",
       "    .dataframe thead th {\n",
       "        text-align: right;\n",
       "    }\n",
       "</style>\n",
       "<table border=\"1\" class=\"dataframe\">\n",
       "  <thead>\n",
       "    <tr style=\"text-align: right;\">\n",
       "      <th></th>\n",
       "      <th>Season</th>\n",
       "      <th>Date</th>\n",
       "      <th>Home Team</th>\n",
       "      <th>Away Team</th>\n",
       "      <th>Home Team Penality Conceded Count</th>\n",
       "      <th>Away Team Penality Conceded Count</th>\n",
       "      <th>Match Referee</th>\n",
       "      <th>Referee Nationality</th>\n",
       "    </tr>\n",
       "  </thead>\n",
       "  <tbody>\n",
       "    <tr>\n",
       "      <th>15</th>\n",
       "      <td>2019</td>\n",
       "      <td>2019-03-01 10:45:00</td>\n",
       "      <td>Rebels</td>\n",
       "      <td>Highlanders</td>\n",
       "      <td>10</td>\n",
       "      <td>8</td>\n",
       "      <td>AJ Jacobs</td>\n",
       "      <td>RSA</td>\n",
       "    </tr>\n",
       "    <tr>\n",
       "      <th>22</th>\n",
       "      <td>2019</td>\n",
       "      <td>2019-03-08 10:45:00</td>\n",
       "      <td>Rebels</td>\n",
       "      <td>Brumbies</td>\n",
       "      <td>11</td>\n",
       "      <td>12</td>\n",
       "      <td>AJ Jacobs</td>\n",
       "      <td>RSA</td>\n",
       "    </tr>\n",
       "    <tr>\n",
       "      <th>51</th>\n",
       "      <td>2019</td>\n",
       "      <td>2019-04-06 10:45:00</td>\n",
       "      <td>Rebels</td>\n",
       "      <td>Sunwolves</td>\n",
       "      <td>16</td>\n",
       "      <td>6</td>\n",
       "      <td>Nic Berry</td>\n",
       "      <td>AUS</td>\n",
       "    </tr>\n",
       "    <tr>\n",
       "      <th>54</th>\n",
       "      <td>2019</td>\n",
       "      <td>2019-04-12 11:45:00</td>\n",
       "      <td>Rebels</td>\n",
       "      <td>Stormers</td>\n",
       "      <td>7</td>\n",
       "      <td>8</td>\n",
       "      <td>Mike Fraser</td>\n",
       "      <td>NZ</td>\n",
       "    </tr>\n",
       "    <tr>\n",
       "      <th>79</th>\n",
       "      <td>2019</td>\n",
       "      <td>2019-05-10 11:45:00</td>\n",
       "      <td>Rebels</td>\n",
       "      <td>Reds</td>\n",
       "      <td>10</td>\n",
       "      <td>14</td>\n",
       "      <td>Angus Gardner</td>\n",
       "      <td>AUS</td>\n",
       "    </tr>\n",
       "    <tr>\n",
       "      <th>86</th>\n",
       "      <td>2019</td>\n",
       "      <td>2019-05-17 11:45:00</td>\n",
       "      <td>Rebels</td>\n",
       "      <td>Bulls</td>\n",
       "      <td>7</td>\n",
       "      <td>11</td>\n",
       "      <td>Federico Anselmi</td>\n",
       "      <td>ARG</td>\n",
       "    </tr>\n",
       "  </tbody>\n",
       "</table>\n",
       "</div>"
      ],
      "text/plain": [
       "    Season               Date  Home Team    Away Team  \\\n",
       "15    2019 2019-03-01 10:45:00    Rebels  Highlanders   \n",
       "22    2019 2019-03-08 10:45:00    Rebels     Brumbies   \n",
       "51    2019 2019-04-06 10:45:00    Rebels    Sunwolves   \n",
       "54    2019 2019-04-12 11:45:00    Rebels     Stormers   \n",
       "79    2019 2019-05-10 11:45:00    Rebels         Reds   \n",
       "86    2019 2019-05-17 11:45:00    Rebels        Bulls   \n",
       "\n",
       "    Home Team Penality Conceded Count  Away Team Penality Conceded Count  \\\n",
       "15                                 10                                  8   \n",
       "22                                 11                                 12   \n",
       "51                                 16                                  6   \n",
       "54                                  7                                  8   \n",
       "79                                 10                                 14   \n",
       "86                                  7                                 11   \n",
       "\n",
       "       Match Referee Referee Nationality  \n",
       "15         AJ Jacobs                 RSA  \n",
       "22         AJ Jacobs                 RSA  \n",
       "51         Nic Berry                 AUS  \n",
       "54       Mike Fraser                  NZ  \n",
       "79     Angus Gardner                 AUS  \n",
       "86  Federico Anselmi                 ARG  "
      ]
     },
     "execution_count": 15,
     "metadata": {},
     "output_type": "execute_result"
    }
   ],
   "source": [
    "df[df['Home Team'] == 'Rebels']"
   ]
  },
  {
   "cell_type": "code",
   "execution_count": 53,
   "metadata": {},
   "outputs": [
    {
     "data": {
      "text/plain": [
       "9.021978021978022"
      ]
     },
     "execution_count": 53,
     "metadata": {},
     "output_type": "execute_result"
    }
   ],
   "source": [
    "df.sort_values('Home Team Penality Conceded Count', ascending=False)['Home Team Penality Conceded Count'].mean()"
   ]
  },
  {
   "cell_type": "code",
   "execution_count": 57,
   "metadata": {},
   "outputs": [
    {
     "data": {
      "text/plain": [
       "9"
      ]
     },
     "execution_count": 57,
     "metadata": {},
     "output_type": "execute_result"
    }
   ],
   "source": [
    "df['Away Team Penality Conceded Count'].sum() - df['Home Team Penality Conceded Count'].sum()"
   ]
  },
  {
   "cell_type": "code",
   "execution_count": 18,
   "metadata": {},
   "outputs": [],
   "source": [
    "df['Penalty Diff'] = df['Home Team Penality Conceded Count'] - df['Away Team Penality Conceded Count']"
   ]
  },
  {
   "cell_type": "code",
   "execution_count": 73,
   "metadata": {},
   "outputs": [],
   "source": [
    "df['Label'] = df['Home Team'] + ' - ' + df['Away Team']"
   ]
  },
  {
   "cell_type": "code",
   "execution_count": 75,
   "metadata": {},
   "outputs": [],
   "source": [
    "df.to_csv('penalty_diff.csv')"
   ]
  },
  {
   "cell_type": "code",
   "execution_count": 19,
   "metadata": {},
   "outputs": [],
   "source": [
    "def remove_neg(value):\n",
    "    if value < 0:\n",
    "        value = value * -1\n",
    "        return value\n",
    "    else:\n",
    "        return value"
   ]
  },
  {
   "cell_type": "code",
   "execution_count": 66,
   "metadata": {},
   "outputs": [],
   "source": [
    "df['Penalty Diff'] = df['Penalty Diff'].apply(remove_neg)"
   ]
  },
  {
   "cell_type": "code",
   "execution_count": 69,
   "metadata": {},
   "outputs": [],
   "source": [
    "df.sort_values('Penalty Diff', ascending=False).to_csv('penalty_diff.csv')"
   ]
  },
  {
   "cell_type": "code",
   "execution_count": 21,
   "metadata": {},
   "outputs": [
    {
     "data": {
      "text/plain": [
       "3.989010989010989"
      ]
     },
     "execution_count": 21,
     "metadata": {},
     "output_type": "execute_result"
    }
   ],
   "source": [
    "df[['Away Team', 'Penalty Diff']]['Penalty Diff'].mean()"
   ]
  },
  {
   "cell_type": "code",
   "execution_count": 72,
   "metadata": {},
   "outputs": [],
   "source": [
    "df.to_csv('penalty_diff.csv')"
   ]
  },
  {
   "cell_type": "code",
   "execution_count": 62,
   "metadata": {},
   "outputs": [
    {
     "data": {
      "text/plain": [
       "Referee Nationality\n",
       "ARG    3.400000\n",
       "AUS    4.210526\n",
       "NZ     3.871795\n",
       "RSA    4.107143\n",
       "Name: Penalty Diff, dtype: float64"
      ]
     },
     "execution_count": 62,
     "metadata": {},
     "output_type": "execute_result"
    }
   ],
   "source": [
    "df['Penalty Diff'].groupby(df['Referee Nationality']).mean()"
   ]
  },
  {
   "cell_type": "code",
   "execution_count": 23,
   "metadata": {},
   "outputs": [],
   "source": [
    "def get_referee_penalty(country):\n",
    "    \n",
    "    # NZ, AUS, RSA, ARG, JAP\n",
    "\n",
    "    new_df = df[df['Referee Nationality'] == country]\n",
    "\n",
    "    away_df = new_df['Away Team Penality Conceded Count'].groupby(new_df['Away Team']).mean().reset_index()\n",
    "    home_df = new_df['Home Team Penality Conceded Count'].groupby(new_df['Home Team']).mean().reset_index()\n",
    "\n",
    "    away_df.columns = ['Team', 'Away Team Penality Conceded Count']\n",
    "    home_df.columns = ['Team', 'Home Team Penality Conceded Count']\n",
    "\n",
    "    new_df = pd.merge(away_df, home_df, on='Team', how='outer')\n",
    "    \n",
    "    new_df['Team Average'] = new_df[['Away Team Penality Conceded Count',\n",
    "                                     'Home Team Penality Conceded Count']].mean(axis=1)\n",
    "    \n",
    "    new_df = new_df[['Team', 'Team Average']]\n",
    "    \n",
    "    new_df.columns = ['Team', '%s Ref Mean' % country]\n",
    "    \n",
    "    return new_df"
   ]
  },
  {
   "cell_type": "code",
   "execution_count": 24,
   "metadata": {},
   "outputs": [],
   "source": [
    "ref_df = pd.merge(get_referee_penalty('RSA'), get_referee_penalty('NZ'), how='outer')\n",
    "ref_df = pd.merge(ref_df, get_referee_penalty('AUS'), how='outer')\n",
    "ref_df = pd.merge(ref_df, get_referee_penalty('ARG'), how='outer')\n",
    "ref_df = pd.merge(ref_df, get_referee_penalty('JAP'), how='outer')"
   ]
  },
  {
   "cell_type": "code",
   "execution_count": 25,
   "metadata": {},
   "outputs": [],
   "source": [
    "ref_df.index = ref_df['Team']\n",
    "ref_df.drop('Team', axis=1, inplace=True)"
   ]
  },
  {
   "cell_type": "code",
   "execution_count": 26,
   "metadata": {},
   "outputs": [],
   "source": [
    "ref_df['Mean'] = ref_df.mean(axis=1)"
   ]
  },
  {
   "cell_type": "code",
   "execution_count": 27,
   "metadata": {},
   "outputs": [
    {
     "data": {
      "text/html": [
       "<div>\n",
       "<style scoped>\n",
       "    .dataframe tbody tr th:only-of-type {\n",
       "        vertical-align: middle;\n",
       "    }\n",
       "\n",
       "    .dataframe tbody tr th {\n",
       "        vertical-align: top;\n",
       "    }\n",
       "\n",
       "    .dataframe thead th {\n",
       "        text-align: right;\n",
       "    }\n",
       "</style>\n",
       "<table border=\"1\" class=\"dataframe\">\n",
       "  <thead>\n",
       "    <tr style=\"text-align: right;\">\n",
       "      <th></th>\n",
       "      <th>RSA Ref Mean</th>\n",
       "      <th>NZ Ref Mean</th>\n",
       "      <th>AUS Ref Mean</th>\n",
       "      <th>ARG Ref Mean</th>\n",
       "      <th>JAP Ref Mean</th>\n",
       "      <th>Mean</th>\n",
       "    </tr>\n",
       "    <tr>\n",
       "      <th>Team</th>\n",
       "      <th></th>\n",
       "      <th></th>\n",
       "      <th></th>\n",
       "      <th></th>\n",
       "      <th></th>\n",
       "      <th></th>\n",
       "    </tr>\n",
       "  </thead>\n",
       "  <tbody>\n",
       "    <tr>\n",
       "      <th>Crusaders</th>\n",
       "      <td>8.833333</td>\n",
       "      <td>12.750000</td>\n",
       "      <td>13.000000</td>\n",
       "      <td>NaN</td>\n",
       "      <td>NaN</td>\n",
       "      <td>11.527778</td>\n",
       "    </tr>\n",
       "    <tr>\n",
       "      <th>Sunwolves</th>\n",
       "      <td>8.000000</td>\n",
       "      <td>10.000000</td>\n",
       "      <td>11.750000</td>\n",
       "      <td>14.0</td>\n",
       "      <td>NaN</td>\n",
       "      <td>10.937500</td>\n",
       "    </tr>\n",
       "    <tr>\n",
       "      <th>Jaguares</th>\n",
       "      <td>10.750000</td>\n",
       "      <td>11.625000</td>\n",
       "      <td>9.000000</td>\n",
       "      <td>NaN</td>\n",
       "      <td>NaN</td>\n",
       "      <td>10.458333</td>\n",
       "    </tr>\n",
       "    <tr>\n",
       "      <th>Bulls</th>\n",
       "      <td>9.200000</td>\n",
       "      <td>9.416667</td>\n",
       "      <td>NaN</td>\n",
       "      <td>11.0</td>\n",
       "      <td>NaN</td>\n",
       "      <td>9.872222</td>\n",
       "    </tr>\n",
       "    <tr>\n",
       "      <th>Rebels</th>\n",
       "      <td>11.583333</td>\n",
       "      <td>9.000000</td>\n",
       "      <td>10.250000</td>\n",
       "      <td>7.0</td>\n",
       "      <td>NaN</td>\n",
       "      <td>9.458333</td>\n",
       "    </tr>\n",
       "    <tr>\n",
       "      <th>Brumbies</th>\n",
       "      <td>11.000000</td>\n",
       "      <td>7.916667</td>\n",
       "      <td>9.000000</td>\n",
       "      <td>NaN</td>\n",
       "      <td>NaN</td>\n",
       "      <td>9.305556</td>\n",
       "    </tr>\n",
       "    <tr>\n",
       "      <th>Hurricanes</th>\n",
       "      <td>6.000000</td>\n",
       "      <td>10.125000</td>\n",
       "      <td>11.000000</td>\n",
       "      <td>NaN</td>\n",
       "      <td>NaN</td>\n",
       "      <td>9.041667</td>\n",
       "    </tr>\n",
       "    <tr>\n",
       "      <th>Reds</th>\n",
       "      <td>8.333333</td>\n",
       "      <td>9.250000</td>\n",
       "      <td>10.000000</td>\n",
       "      <td>8.0</td>\n",
       "      <td>NaN</td>\n",
       "      <td>8.895833</td>\n",
       "    </tr>\n",
       "    <tr>\n",
       "      <th>Blues</th>\n",
       "      <td>8.000000</td>\n",
       "      <td>7.950000</td>\n",
       "      <td>11.000000</td>\n",
       "      <td>7.0</td>\n",
       "      <td>NaN</td>\n",
       "      <td>8.487500</td>\n",
       "    </tr>\n",
       "    <tr>\n",
       "      <th>Highlanders</th>\n",
       "      <td>9.000000</td>\n",
       "      <td>6.666667</td>\n",
       "      <td>12.000000</td>\n",
       "      <td>6.0</td>\n",
       "      <td>NaN</td>\n",
       "      <td>8.416667</td>\n",
       "    </tr>\n",
       "    <tr>\n",
       "      <th>Stormers</th>\n",
       "      <td>8.750000</td>\n",
       "      <td>7.916667</td>\n",
       "      <td>8.000000</td>\n",
       "      <td>NaN</td>\n",
       "      <td>NaN</td>\n",
       "      <td>8.222222</td>\n",
       "    </tr>\n",
       "    <tr>\n",
       "      <th>Lions</th>\n",
       "      <td>7.625000</td>\n",
       "      <td>10.250000</td>\n",
       "      <td>6.000000</td>\n",
       "      <td>NaN</td>\n",
       "      <td>NaN</td>\n",
       "      <td>7.958333</td>\n",
       "    </tr>\n",
       "    <tr>\n",
       "      <th>Sharks</th>\n",
       "      <td>8.000000</td>\n",
       "      <td>9.250000</td>\n",
       "      <td>7.000000</td>\n",
       "      <td>7.0</td>\n",
       "      <td>NaN</td>\n",
       "      <td>7.812500</td>\n",
       "    </tr>\n",
       "    <tr>\n",
       "      <th>Waratahs</th>\n",
       "      <td>6.500000</td>\n",
       "      <td>7.750000</td>\n",
       "      <td>9.666667</td>\n",
       "      <td>7.0</td>\n",
       "      <td>NaN</td>\n",
       "      <td>7.729167</td>\n",
       "    </tr>\n",
       "    <tr>\n",
       "      <th>Chiefs</th>\n",
       "      <td>4.000000</td>\n",
       "      <td>7.666667</td>\n",
       "      <td>8.500000</td>\n",
       "      <td>4.0</td>\n",
       "      <td>NaN</td>\n",
       "      <td>6.041667</td>\n",
       "    </tr>\n",
       "  </tbody>\n",
       "</table>\n",
       "</div>"
      ],
      "text/plain": [
       "             RSA Ref Mean  NZ Ref Mean  AUS Ref Mean  ARG Ref Mean  \\\n",
       "Team                                                                 \n",
       "Crusaders        8.833333    12.750000     13.000000           NaN   \n",
       "Sunwolves        8.000000    10.000000     11.750000          14.0   \n",
       "Jaguares        10.750000    11.625000      9.000000           NaN   \n",
       "Bulls            9.200000     9.416667           NaN          11.0   \n",
       "Rebels          11.583333     9.000000     10.250000           7.0   \n",
       "Brumbies        11.000000     7.916667      9.000000           NaN   \n",
       "Hurricanes       6.000000    10.125000     11.000000           NaN   \n",
       "Reds             8.333333     9.250000     10.000000           8.0   \n",
       "Blues            8.000000     7.950000     11.000000           7.0   \n",
       "Highlanders      9.000000     6.666667     12.000000           6.0   \n",
       "Stormers         8.750000     7.916667      8.000000           NaN   \n",
       "Lions            7.625000    10.250000      6.000000           NaN   \n",
       "Sharks           8.000000     9.250000      7.000000           7.0   \n",
       "Waratahs         6.500000     7.750000      9.666667           7.0   \n",
       "Chiefs           4.000000     7.666667      8.500000           4.0   \n",
       "\n",
       "             JAP Ref Mean       Mean  \n",
       "Team                                  \n",
       "Crusaders             NaN  11.527778  \n",
       "Sunwolves             NaN  10.937500  \n",
       "Jaguares              NaN  10.458333  \n",
       "Bulls                 NaN   9.872222  \n",
       "Rebels                NaN   9.458333  \n",
       "Brumbies              NaN   9.305556  \n",
       "Hurricanes            NaN   9.041667  \n",
       "Reds                  NaN   8.895833  \n",
       "Blues                 NaN   8.487500  \n",
       "Highlanders           NaN   8.416667  \n",
       "Stormers              NaN   8.222222  \n",
       "Lions                 NaN   7.958333  \n",
       "Sharks                NaN   7.812500  \n",
       "Waratahs              NaN   7.729167  \n",
       "Chiefs                NaN   6.041667  "
      ]
     },
     "execution_count": 27,
     "metadata": {},
     "output_type": "execute_result"
    }
   ],
   "source": [
    "ref_df.sort_values('Mean', ascending=False)"
   ]
  },
  {
   "cell_type": "code",
   "execution_count": 28,
   "metadata": {},
   "outputs": [
    {
     "data": {
      "text/plain": [
       "8.371666666666666"
      ]
     },
     "execution_count": 28,
     "metadata": {},
     "output_type": "execute_result"
    }
   ],
   "source": [
    "ref_df['RSA Ref Mean'].mean()"
   ]
  },
  {
   "cell_type": "code",
   "execution_count": 29,
   "metadata": {},
   "outputs": [
    {
     "data": {
      "text/plain": [
       "9.16888888888889"
      ]
     },
     "execution_count": 29,
     "metadata": {},
     "output_type": "execute_result"
    }
   ],
   "source": [
    "ref_df['NZ Ref Mean'].mean()"
   ]
  },
  {
   "cell_type": "code",
   "execution_count": 30,
   "metadata": {},
   "outputs": [
    {
     "data": {
      "text/plain": [
       "9.726190476190478"
      ]
     },
     "execution_count": 30,
     "metadata": {},
     "output_type": "execute_result"
    }
   ],
   "source": [
    "ref_df['AUS Ref Mean'].mean()"
   ]
  },
  {
   "cell_type": "code",
   "execution_count": 31,
   "metadata": {},
   "outputs": [],
   "source": [
    "ref_df['Max - Min difference'] = ref_df.max(axis=1) - ref_df.min(axis=1)"
   ]
  },
  {
   "cell_type": "code",
   "execution_count": 32,
   "metadata": {},
   "outputs": [
    {
     "data": {
      "text/html": [
       "<div>\n",
       "<style scoped>\n",
       "    .dataframe tbody tr th:only-of-type {\n",
       "        vertical-align: middle;\n",
       "    }\n",
       "\n",
       "    .dataframe tbody tr th {\n",
       "        vertical-align: top;\n",
       "    }\n",
       "\n",
       "    .dataframe thead th {\n",
       "        text-align: right;\n",
       "    }\n",
       "</style>\n",
       "<table border=\"1\" class=\"dataframe\">\n",
       "  <thead>\n",
       "    <tr style=\"text-align: right;\">\n",
       "      <th></th>\n",
       "      <th>RSA Ref Mean</th>\n",
       "      <th>NZ Ref Mean</th>\n",
       "      <th>AUS Ref Mean</th>\n",
       "      <th>ARG Ref Mean</th>\n",
       "      <th>JAP Ref Mean</th>\n",
       "      <th>Mean</th>\n",
       "      <th>Max - Min difference</th>\n",
       "    </tr>\n",
       "    <tr>\n",
       "      <th>Team</th>\n",
       "      <th></th>\n",
       "      <th></th>\n",
       "      <th></th>\n",
       "      <th></th>\n",
       "      <th></th>\n",
       "      <th></th>\n",
       "      <th></th>\n",
       "    </tr>\n",
       "  </thead>\n",
       "  <tbody>\n",
       "    <tr>\n",
       "      <th>Highlanders</th>\n",
       "      <td>9.000000</td>\n",
       "      <td>6.666667</td>\n",
       "      <td>12.000000</td>\n",
       "      <td>6.0</td>\n",
       "      <td>NaN</td>\n",
       "      <td>8.416667</td>\n",
       "      <td>6.000000</td>\n",
       "    </tr>\n",
       "    <tr>\n",
       "      <th>Sunwolves</th>\n",
       "      <td>8.000000</td>\n",
       "      <td>10.000000</td>\n",
       "      <td>11.750000</td>\n",
       "      <td>14.0</td>\n",
       "      <td>NaN</td>\n",
       "      <td>10.937500</td>\n",
       "      <td>6.000000</td>\n",
       "    </tr>\n",
       "    <tr>\n",
       "      <th>Hurricanes</th>\n",
       "      <td>6.000000</td>\n",
       "      <td>10.125000</td>\n",
       "      <td>11.000000</td>\n",
       "      <td>NaN</td>\n",
       "      <td>NaN</td>\n",
       "      <td>9.041667</td>\n",
       "      <td>5.000000</td>\n",
       "    </tr>\n",
       "    <tr>\n",
       "      <th>Rebels</th>\n",
       "      <td>11.583333</td>\n",
       "      <td>9.000000</td>\n",
       "      <td>10.250000</td>\n",
       "      <td>7.0</td>\n",
       "      <td>NaN</td>\n",
       "      <td>9.458333</td>\n",
       "      <td>4.583333</td>\n",
       "    </tr>\n",
       "    <tr>\n",
       "      <th>Chiefs</th>\n",
       "      <td>4.000000</td>\n",
       "      <td>7.666667</td>\n",
       "      <td>8.500000</td>\n",
       "      <td>4.0</td>\n",
       "      <td>NaN</td>\n",
       "      <td>6.041667</td>\n",
       "      <td>4.500000</td>\n",
       "    </tr>\n",
       "    <tr>\n",
       "      <th>Lions</th>\n",
       "      <td>7.625000</td>\n",
       "      <td>10.250000</td>\n",
       "      <td>6.000000</td>\n",
       "      <td>NaN</td>\n",
       "      <td>NaN</td>\n",
       "      <td>7.958333</td>\n",
       "      <td>4.250000</td>\n",
       "    </tr>\n",
       "    <tr>\n",
       "      <th>Crusaders</th>\n",
       "      <td>8.833333</td>\n",
       "      <td>12.750000</td>\n",
       "      <td>13.000000</td>\n",
       "      <td>NaN</td>\n",
       "      <td>NaN</td>\n",
       "      <td>11.527778</td>\n",
       "      <td>4.166667</td>\n",
       "    </tr>\n",
       "    <tr>\n",
       "      <th>Blues</th>\n",
       "      <td>8.000000</td>\n",
       "      <td>7.950000</td>\n",
       "      <td>11.000000</td>\n",
       "      <td>7.0</td>\n",
       "      <td>NaN</td>\n",
       "      <td>8.487500</td>\n",
       "      <td>4.000000</td>\n",
       "    </tr>\n",
       "    <tr>\n",
       "      <th>Waratahs</th>\n",
       "      <td>6.500000</td>\n",
       "      <td>7.750000</td>\n",
       "      <td>9.666667</td>\n",
       "      <td>7.0</td>\n",
       "      <td>NaN</td>\n",
       "      <td>7.729167</td>\n",
       "      <td>3.166667</td>\n",
       "    </tr>\n",
       "    <tr>\n",
       "      <th>Brumbies</th>\n",
       "      <td>11.000000</td>\n",
       "      <td>7.916667</td>\n",
       "      <td>9.000000</td>\n",
       "      <td>NaN</td>\n",
       "      <td>NaN</td>\n",
       "      <td>9.305556</td>\n",
       "      <td>3.083333</td>\n",
       "    </tr>\n",
       "    <tr>\n",
       "      <th>Jaguares</th>\n",
       "      <td>10.750000</td>\n",
       "      <td>11.625000</td>\n",
       "      <td>9.000000</td>\n",
       "      <td>NaN</td>\n",
       "      <td>NaN</td>\n",
       "      <td>10.458333</td>\n",
       "      <td>2.625000</td>\n",
       "    </tr>\n",
       "    <tr>\n",
       "      <th>Sharks</th>\n",
       "      <td>8.000000</td>\n",
       "      <td>9.250000</td>\n",
       "      <td>7.000000</td>\n",
       "      <td>7.0</td>\n",
       "      <td>NaN</td>\n",
       "      <td>7.812500</td>\n",
       "      <td>2.250000</td>\n",
       "    </tr>\n",
       "    <tr>\n",
       "      <th>Reds</th>\n",
       "      <td>8.333333</td>\n",
       "      <td>9.250000</td>\n",
       "      <td>10.000000</td>\n",
       "      <td>8.0</td>\n",
       "      <td>NaN</td>\n",
       "      <td>8.895833</td>\n",
       "      <td>2.000000</td>\n",
       "    </tr>\n",
       "    <tr>\n",
       "      <th>Bulls</th>\n",
       "      <td>9.200000</td>\n",
       "      <td>9.416667</td>\n",
       "      <td>NaN</td>\n",
       "      <td>11.0</td>\n",
       "      <td>NaN</td>\n",
       "      <td>9.872222</td>\n",
       "      <td>1.800000</td>\n",
       "    </tr>\n",
       "    <tr>\n",
       "      <th>Stormers</th>\n",
       "      <td>8.750000</td>\n",
       "      <td>7.916667</td>\n",
       "      <td>8.000000</td>\n",
       "      <td>NaN</td>\n",
       "      <td>NaN</td>\n",
       "      <td>8.222222</td>\n",
       "      <td>0.833333</td>\n",
       "    </tr>\n",
       "  </tbody>\n",
       "</table>\n",
       "</div>"
      ],
      "text/plain": [
       "             RSA Ref Mean  NZ Ref Mean  AUS Ref Mean  ARG Ref Mean  \\\n",
       "Team                                                                 \n",
       "Highlanders      9.000000     6.666667     12.000000           6.0   \n",
       "Sunwolves        8.000000    10.000000     11.750000          14.0   \n",
       "Hurricanes       6.000000    10.125000     11.000000           NaN   \n",
       "Rebels          11.583333     9.000000     10.250000           7.0   \n",
       "Chiefs           4.000000     7.666667      8.500000           4.0   \n",
       "Lions            7.625000    10.250000      6.000000           NaN   \n",
       "Crusaders        8.833333    12.750000     13.000000           NaN   \n",
       "Blues            8.000000     7.950000     11.000000           7.0   \n",
       "Waratahs         6.500000     7.750000      9.666667           7.0   \n",
       "Brumbies        11.000000     7.916667      9.000000           NaN   \n",
       "Jaguares        10.750000    11.625000      9.000000           NaN   \n",
       "Sharks           8.000000     9.250000      7.000000           7.0   \n",
       "Reds             8.333333     9.250000     10.000000           8.0   \n",
       "Bulls            9.200000     9.416667           NaN          11.0   \n",
       "Stormers         8.750000     7.916667      8.000000           NaN   \n",
       "\n",
       "             JAP Ref Mean       Mean  Max - Min difference  \n",
       "Team                                                        \n",
       "Highlanders           NaN   8.416667              6.000000  \n",
       "Sunwolves             NaN  10.937500              6.000000  \n",
       "Hurricanes            NaN   9.041667              5.000000  \n",
       "Rebels                NaN   9.458333              4.583333  \n",
       "Chiefs                NaN   6.041667              4.500000  \n",
       "Lions                 NaN   7.958333              4.250000  \n",
       "Crusaders             NaN  11.527778              4.166667  \n",
       "Blues                 NaN   8.487500              4.000000  \n",
       "Waratahs              NaN   7.729167              3.166667  \n",
       "Brumbies              NaN   9.305556              3.083333  \n",
       "Jaguares              NaN  10.458333              2.625000  \n",
       "Sharks                NaN   7.812500              2.250000  \n",
       "Reds                  NaN   8.895833              2.000000  \n",
       "Bulls                 NaN   9.872222              1.800000  \n",
       "Stormers              NaN   8.222222              0.833333  "
      ]
     },
     "execution_count": 32,
     "metadata": {},
     "output_type": "execute_result"
    }
   ],
   "source": [
    "ref_df.sort_values('Max - Min difference', ascending=False)"
   ]
  },
  {
   "cell_type": "code",
   "execution_count": 33,
   "metadata": {},
   "outputs": [],
   "source": [
    "def get_nationality(value):\n",
    "    \n",
    "    if value == 'Blues':\n",
    "        national = 'NZ'\n",
    "    elif value == 'Brumbies':\n",
    "        national = 'AUS'\n",
    "    elif value == 'Bulls':\n",
    "        national = 'RSA'\n",
    "    elif value == 'Cheetahs':\n",
    "        national = 'RSA'\n",
    "    elif value == 'Chiefs':\n",
    "        national = 'NZ'\n",
    "    elif value == 'Crusaders':\n",
    "        national = 'NZ'\n",
    "    elif value == 'Force':\n",
    "        national = 'AUS'\n",
    "    elif value == 'Highlanders':\n",
    "        national = 'NZ'\n",
    "    elif value == 'Hurricanes':\n",
    "        national = 'NZ'\n",
    "    elif value == 'Jaguares':\n",
    "        national = 'ARG'\n",
    "    elif value == 'Kings':\n",
    "        national = 'RSA'\n",
    "    elif value == 'Lions':\n",
    "        national = 'RSA'\n",
    "    elif value == 'Rebels':\n",
    "        national = 'AUS'\n",
    "    elif value == 'Reds':\n",
    "        national = 'AUS'\n",
    "    elif value == 'Sharks':\n",
    "        national = 'RSA'\n",
    "    elif value == 'Stormers':\n",
    "        national = 'RSA'\n",
    "    elif value == 'Sunwolves':\n",
    "        national = 'JAP'\n",
    "    elif value == 'Waratahs':\n",
    "        national = 'AUS'\n",
    "    \n",
    "    return national"
   ]
  },
  {
   "cell_type": "code",
   "execution_count": 34,
   "metadata": {},
   "outputs": [],
   "source": [
    "ref_df['Team Nationality'] = list(ref_df.reset_index()['Team'].apply(get_nationality).reset_index()['Team'])"
   ]
  },
  {
   "cell_type": "code",
   "execution_count": 37,
   "metadata": {},
   "outputs": [
    {
     "data": {
      "text/html": [
       "<div>\n",
       "<style scoped>\n",
       "    .dataframe tbody tr th:only-of-type {\n",
       "        vertical-align: middle;\n",
       "    }\n",
       "\n",
       "    .dataframe tbody tr th {\n",
       "        vertical-align: top;\n",
       "    }\n",
       "\n",
       "    .dataframe thead th {\n",
       "        text-align: right;\n",
       "    }\n",
       "</style>\n",
       "<table border=\"1\" class=\"dataframe\">\n",
       "  <thead>\n",
       "    <tr style=\"text-align: right;\">\n",
       "      <th></th>\n",
       "      <th>RSA Ref Mean</th>\n",
       "      <th>NZ Ref Mean</th>\n",
       "      <th>AUS Ref Mean</th>\n",
       "      <th>ARG Ref Mean</th>\n",
       "      <th>JAP Ref Mean</th>\n",
       "      <th>Mean</th>\n",
       "      <th>Max - Min difference</th>\n",
       "      <th>Team Nationality</th>\n",
       "    </tr>\n",
       "    <tr>\n",
       "      <th>Team</th>\n",
       "      <th></th>\n",
       "      <th></th>\n",
       "      <th></th>\n",
       "      <th></th>\n",
       "      <th></th>\n",
       "      <th></th>\n",
       "      <th></th>\n",
       "      <th></th>\n",
       "    </tr>\n",
       "  </thead>\n",
       "  <tbody>\n",
       "    <tr>\n",
       "      <th>Blues</th>\n",
       "      <td>8.000000</td>\n",
       "      <td>7.950000</td>\n",
       "      <td>11.000000</td>\n",
       "      <td>7.0</td>\n",
       "      <td>NaN</td>\n",
       "      <td>8.487500</td>\n",
       "      <td>4.000000</td>\n",
       "      <td>NZ</td>\n",
       "    </tr>\n",
       "    <tr>\n",
       "      <th>Brumbies</th>\n",
       "      <td>11.000000</td>\n",
       "      <td>7.916667</td>\n",
       "      <td>9.000000</td>\n",
       "      <td>NaN</td>\n",
       "      <td>NaN</td>\n",
       "      <td>9.305556</td>\n",
       "      <td>3.083333</td>\n",
       "      <td>AUS</td>\n",
       "    </tr>\n",
       "    <tr>\n",
       "      <th>Bulls</th>\n",
       "      <td>9.200000</td>\n",
       "      <td>9.416667</td>\n",
       "      <td>NaN</td>\n",
       "      <td>11.0</td>\n",
       "      <td>NaN</td>\n",
       "      <td>9.872222</td>\n",
       "      <td>1.800000</td>\n",
       "      <td>RSA</td>\n",
       "    </tr>\n",
       "    <tr>\n",
       "      <th>Chiefs</th>\n",
       "      <td>4.000000</td>\n",
       "      <td>7.666667</td>\n",
       "      <td>8.500000</td>\n",
       "      <td>4.0</td>\n",
       "      <td>NaN</td>\n",
       "      <td>6.041667</td>\n",
       "      <td>4.500000</td>\n",
       "      <td>NZ</td>\n",
       "    </tr>\n",
       "    <tr>\n",
       "      <th>Crusaders</th>\n",
       "      <td>8.833333</td>\n",
       "      <td>12.750000</td>\n",
       "      <td>13.000000</td>\n",
       "      <td>NaN</td>\n",
       "      <td>NaN</td>\n",
       "      <td>11.527778</td>\n",
       "      <td>4.166667</td>\n",
       "      <td>NZ</td>\n",
       "    </tr>\n",
       "    <tr>\n",
       "      <th>Highlanders</th>\n",
       "      <td>9.000000</td>\n",
       "      <td>6.666667</td>\n",
       "      <td>12.000000</td>\n",
       "      <td>6.0</td>\n",
       "      <td>NaN</td>\n",
       "      <td>8.416667</td>\n",
       "      <td>6.000000</td>\n",
       "      <td>NZ</td>\n",
       "    </tr>\n",
       "    <tr>\n",
       "      <th>Jaguares</th>\n",
       "      <td>10.750000</td>\n",
       "      <td>11.625000</td>\n",
       "      <td>9.000000</td>\n",
       "      <td>NaN</td>\n",
       "      <td>NaN</td>\n",
       "      <td>10.458333</td>\n",
       "      <td>2.625000</td>\n",
       "      <td>ARG</td>\n",
       "    </tr>\n",
       "    <tr>\n",
       "      <th>Lions</th>\n",
       "      <td>7.625000</td>\n",
       "      <td>10.250000</td>\n",
       "      <td>6.000000</td>\n",
       "      <td>NaN</td>\n",
       "      <td>NaN</td>\n",
       "      <td>7.958333</td>\n",
       "      <td>4.250000</td>\n",
       "      <td>RSA</td>\n",
       "    </tr>\n",
       "    <tr>\n",
       "      <th>Rebels</th>\n",
       "      <td>11.583333</td>\n",
       "      <td>9.000000</td>\n",
       "      <td>10.250000</td>\n",
       "      <td>7.0</td>\n",
       "      <td>NaN</td>\n",
       "      <td>9.458333</td>\n",
       "      <td>4.583333</td>\n",
       "      <td>AUS</td>\n",
       "    </tr>\n",
       "    <tr>\n",
       "      <th>Sharks</th>\n",
       "      <td>8.000000</td>\n",
       "      <td>9.250000</td>\n",
       "      <td>7.000000</td>\n",
       "      <td>7.0</td>\n",
       "      <td>NaN</td>\n",
       "      <td>7.812500</td>\n",
       "      <td>2.250000</td>\n",
       "      <td>RSA</td>\n",
       "    </tr>\n",
       "    <tr>\n",
       "      <th>Stormers</th>\n",
       "      <td>8.750000</td>\n",
       "      <td>7.916667</td>\n",
       "      <td>8.000000</td>\n",
       "      <td>NaN</td>\n",
       "      <td>NaN</td>\n",
       "      <td>8.222222</td>\n",
       "      <td>0.833333</td>\n",
       "      <td>RSA</td>\n",
       "    </tr>\n",
       "    <tr>\n",
       "      <th>Waratahs</th>\n",
       "      <td>6.500000</td>\n",
       "      <td>7.750000</td>\n",
       "      <td>9.666667</td>\n",
       "      <td>7.0</td>\n",
       "      <td>NaN</td>\n",
       "      <td>7.729167</td>\n",
       "      <td>3.166667</td>\n",
       "      <td>AUS</td>\n",
       "    </tr>\n",
       "    <tr>\n",
       "      <th>Hurricanes</th>\n",
       "      <td>6.000000</td>\n",
       "      <td>10.125000</td>\n",
       "      <td>11.000000</td>\n",
       "      <td>NaN</td>\n",
       "      <td>NaN</td>\n",
       "      <td>9.041667</td>\n",
       "      <td>5.000000</td>\n",
       "      <td>NZ</td>\n",
       "    </tr>\n",
       "    <tr>\n",
       "      <th>Reds</th>\n",
       "      <td>8.333333</td>\n",
       "      <td>9.250000</td>\n",
       "      <td>10.000000</td>\n",
       "      <td>8.0</td>\n",
       "      <td>NaN</td>\n",
       "      <td>8.895833</td>\n",
       "      <td>2.000000</td>\n",
       "      <td>AUS</td>\n",
       "    </tr>\n",
       "    <tr>\n",
       "      <th>Sunwolves</th>\n",
       "      <td>8.000000</td>\n",
       "      <td>10.000000</td>\n",
       "      <td>11.750000</td>\n",
       "      <td>14.0</td>\n",
       "      <td>NaN</td>\n",
       "      <td>10.937500</td>\n",
       "      <td>6.000000</td>\n",
       "      <td>JAP</td>\n",
       "    </tr>\n",
       "  </tbody>\n",
       "</table>\n",
       "</div>"
      ],
      "text/plain": [
       "             RSA Ref Mean  NZ Ref Mean  AUS Ref Mean  ARG Ref Mean  \\\n",
       "Team                                                                 \n",
       "Blues            8.000000     7.950000     11.000000           7.0   \n",
       "Brumbies        11.000000     7.916667      9.000000           NaN   \n",
       "Bulls            9.200000     9.416667           NaN          11.0   \n",
       "Chiefs           4.000000     7.666667      8.500000           4.0   \n",
       "Crusaders        8.833333    12.750000     13.000000           NaN   \n",
       "Highlanders      9.000000     6.666667     12.000000           6.0   \n",
       "Jaguares        10.750000    11.625000      9.000000           NaN   \n",
       "Lions            7.625000    10.250000      6.000000           NaN   \n",
       "Rebels          11.583333     9.000000     10.250000           7.0   \n",
       "Sharks           8.000000     9.250000      7.000000           7.0   \n",
       "Stormers         8.750000     7.916667      8.000000           NaN   \n",
       "Waratahs         6.500000     7.750000      9.666667           7.0   \n",
       "Hurricanes       6.000000    10.125000     11.000000           NaN   \n",
       "Reds             8.333333     9.250000     10.000000           8.0   \n",
       "Sunwolves        8.000000    10.000000     11.750000          14.0   \n",
       "\n",
       "             JAP Ref Mean       Mean  Max - Min difference Team Nationality  \n",
       "Team                                                                         \n",
       "Blues                 NaN   8.487500              4.000000               NZ  \n",
       "Brumbies              NaN   9.305556              3.083333              AUS  \n",
       "Bulls                 NaN   9.872222              1.800000              RSA  \n",
       "Chiefs                NaN   6.041667              4.500000               NZ  \n",
       "Crusaders             NaN  11.527778              4.166667               NZ  \n",
       "Highlanders           NaN   8.416667              6.000000               NZ  \n",
       "Jaguares              NaN  10.458333              2.625000              ARG  \n",
       "Lions                 NaN   7.958333              4.250000              RSA  \n",
       "Rebels                NaN   9.458333              4.583333              AUS  \n",
       "Sharks                NaN   7.812500              2.250000              RSA  \n",
       "Stormers              NaN   8.222222              0.833333              RSA  \n",
       "Waratahs              NaN   7.729167              3.166667              AUS  \n",
       "Hurricanes            NaN   9.041667              5.000000               NZ  \n",
       "Reds                  NaN   8.895833              2.000000              AUS  \n",
       "Sunwolves             NaN  10.937500              6.000000              JAP  "
      ]
     },
     "execution_count": 37,
     "metadata": {},
     "output_type": "execute_result"
    }
   ],
   "source": [
    "ref_df"
   ]
  },
  {
   "cell_type": "code",
   "execution_count": 47,
   "metadata": {},
   "outputs": [
    {
     "data": {
      "text/plain": [
       "11.1"
      ]
     },
     "execution_count": 47,
     "metadata": {},
     "output_type": "execute_result"
    }
   ],
   "source": [
    "ref_df[ref_df['Team Nationality'] == 'NZ']['AUS Ref Mean'].mean()"
   ]
  },
  {
   "cell_type": "code",
   "execution_count": 48,
   "metadata": {},
   "outputs": [
    {
     "data": {
      "text/plain": [
       "9.729166666666666"
      ]
     },
     "execution_count": 48,
     "metadata": {},
     "output_type": "execute_result"
    }
   ],
   "source": [
    "ref_df[ref_df['Team Nationality'] == 'AUS']['AUS Ref Mean'].mean()"
   ]
  },
  {
   "cell_type": "code",
   "execution_count": 49,
   "metadata": {},
   "outputs": [
    {
     "data": {
      "text/plain": [
       "7.0"
      ]
     },
     "execution_count": 49,
     "metadata": {},
     "output_type": "execute_result"
    }
   ],
   "source": [
    "ref_df[ref_df['Team Nationality'] == 'RSA']['AUS Ref Mean'].mean()"
   ]
  },
  {
   "cell_type": "code",
   "execution_count": 36,
   "metadata": {},
   "outputs": [],
   "source": [
    "# In 2017, South African referees penalised South African teams 9.03 times per match\n",
    "# During this season South African referees penalised New Zeland teams 10.69 times per match and Australians 9.2 times per match.\n",
    "\n",
    "# New Zealand referees penalised South African teams 9.72 times per match, compared to New Zealand teams\n",
    "# who were penalised 8.24 times and Australian teams who were penalised 9.18 times.\n",
    "\n",
    "# Austrlian refs penalised South African teams 8.6 times, compared to New Zealand (9.82) and Australian teams (9.21)."
   ]
  },
  {
   "cell_type": "code",
   "execution_count": null,
   "metadata": {},
   "outputs": [],
   "source": []
  },
  {
   "cell_type": "code",
   "execution_count": null,
   "metadata": {},
   "outputs": [],
   "source": []
  }
 ],
 "metadata": {
  "kernelspec": {
   "display_name": "Python 3",
   "language": "python",
   "name": "python3"
  },
  "language_info": {
   "codemirror_mode": {
    "name": "ipython",
    "version": 3
   },
   "file_extension": ".py",
   "mimetype": "text/x-python",
   "name": "python",
   "nbconvert_exporter": "python",
   "pygments_lexer": "ipython3",
   "version": "3.6.6"
  }
 },
 "nbformat": 4,
 "nbformat_minor": 2
}
